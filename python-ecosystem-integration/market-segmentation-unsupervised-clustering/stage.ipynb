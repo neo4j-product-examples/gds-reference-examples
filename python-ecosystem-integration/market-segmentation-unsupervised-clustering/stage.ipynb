{
 "cells": [
  {
   "cell_type": "code",
   "execution_count": 1,
   "metadata": {
    "collapsed": true
   },
   "outputs": [],
   "source": [
    "from graphdatascience import GraphDataScience\n",
    "import pandas as pd\n",
    "import configparser"
   ]
  },
  {
   "cell_type": "markdown",
   "source": [
    "### Neo4j Settings\n",
    "The NEO4J_PROPERTIES_FILE is an ini configuration file for Neo4j properties so this notebook can connect to your Neo4j instance and load data. The ini file should be formatted as follows\n",
    "\n",
    "```\n",
    "[NEO4J]\n",
    "PASSWORD=<password>\n",
    "USERNAME=<username, is 'neo4j' by default>\n",
    "HOST=<host uri>\n",
    "```"
   ],
   "metadata": {
    "collapsed": false,
    "pycharm": {
     "name": "#%% md\n"
    }
   }
  },
  {
   "cell_type": "code",
   "execution_count": 2,
   "outputs": [],
   "source": [
    "config = configparser.RawConfigParser()\n",
    "config.read('/Users/zachblumenfeld/devtools/aura-mind-2.ini')\n",
    "HOST = config['NEO4J']['HOST']\n",
    "USERNAME = config['NEO4J']['USERNAME']\n",
    "PASSWORD = config['NEO4J']['PASSWORD']\n",
    "\n",
    "gds = GraphDataScience(HOST, auth=(USERNAME, PASSWORD), aura_ds=True)"
   ],
   "metadata": {
    "collapsed": false,
    "pycharm": {
     "name": "#%%\n"
    }
   }
  },
  {
   "cell_type": "markdown",
   "source": [
    "### Clean Up from Last Time"
   ],
   "metadata": {
    "collapsed": false,
    "pycharm": {
     "name": "#%% md\n"
    }
   }
  },
  {
   "cell_type": "code",
   "execution_count": 3,
   "outputs": [],
   "source": [
    "# remove old properties\n",
    "_ = gds.run_cypher('MATCH (n:News) REMOVE n.segmentEmbeddings')"
   ],
   "metadata": {
    "collapsed": false,
    "pycharm": {
     "name": "#%%\n"
    }
   }
  },
  {
   "cell_type": "code",
   "execution_count": 4,
   "outputs": [],
   "source": [
    "# drop all the projected graphs\n",
    "g_names = gds.graph.list().graphName.tolist()\n",
    "\n",
    "for g_name in g_names:\n",
    "    g = gds.graph.get(g_name)\n",
    "    gds.graph.drop(g)"
   ],
   "metadata": {
    "collapsed": false,
    "pycharm": {
     "name": "#%%\n"
    }
   }
  },
  {
   "cell_type": "markdown",
   "source": [
    "### Stage Graph"
   ],
   "metadata": {
    "collapsed": false,
    "pycharm": {
     "name": "#%% md\n"
    }
   }
  },
  {
   "cell_type": "code",
   "execution_count": 5,
   "outputs": [],
   "source": [
    "# create user viewed categories and sub-categories.  THis will be useful for deciding how to label the K-Means clusters\n",
    "_ = gds.run_cypher('''\n",
    "MATCH  (u:User)-[:CLICKED]->(:News)\n",
    "WITH DISTINCT u\n",
    "CALL {\n",
    "    WITH u\n",
    "    MATCH(u)-[:CLICKED|HISTORICALLY_CLICKED]->(n:News)\n",
    "    WITH u, collect(DISTINCT n.category) AS viewCategories\n",
    "    SET u.viewCategories = viewCategories\n",
    "} IN TRANSACTIONS OF 10000 rows\n",
    "''')\n",
    "\n",
    "_ = gds.run_cypher('''\n",
    "MATCH  (u:User)-[:CLICKED]->(:News)\n",
    "WITH DISTINCT u\n",
    "CALL {\n",
    "    WITH u\n",
    "    MATCH(u)-[:CLICKED|HISTORICALLY_CLICKED]->(n:News)\n",
    "    WITH  u, n.category + '-' + n.subcategory AS viewSubcategory\n",
    "    WITH u, collect(DISTINCT viewSubcategory) AS viewSubcategories\n",
    "    SET u.viewSubcategories = viewSubcategories\n",
    "} IN TRANSACTIONS OF 10000 rows\n",
    "''')"
   ],
   "metadata": {
    "collapsed": false,
    "pycharm": {
     "name": "#%%\n"
    }
   }
  },
  {
   "cell_type": "code",
   "execution_count": 5,
   "outputs": [],
   "source": [],
   "metadata": {
    "collapsed": false,
    "pycharm": {
     "name": "#%%\n"
    }
   }
  }
 ],
 "metadata": {
  "kernelspec": {
   "display_name": "Python 3",
   "language": "python",
   "name": "python3"
  },
  "language_info": {
   "codemirror_mode": {
    "name": "ipython",
    "version": 2
   },
   "file_extension": ".py",
   "mimetype": "text/x-python",
   "name": "python",
   "nbconvert_exporter": "python",
   "pygments_lexer": "ipython2",
   "version": "2.7.6"
  }
 },
 "nbformat": 4,
 "nbformat_minor": 0
}