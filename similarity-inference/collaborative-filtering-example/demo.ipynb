{
 "cells": [
  {
   "cell_type": "markdown",
   "metadata": {
    "collapsed": true,
    "pycharm": {
     "name": "#%% md\n"
    }
   },
   "source": [
    "# Graph Data Science Meets Python"
   ]
  },
  {
   "cell_type": "code",
   "execution_count": 1,
   "metadata": {
    "pycharm": {
     "name": "#%%\n"
    }
   },
   "outputs": [],
   "source": [
    "import pandas as pd\n",
    "import configparser\n",
    "pd.set_option('display.max_rows', 12)"
   ]
  },
  {
   "cell_type": "markdown",
   "metadata": {
    "pycharm": {
     "name": "#%% md\n"
    }
   },
   "source": [
    "# Recommendation System - News Content\n",
    "## Using KNN to Improve Recommendation Efficiency"
   ]
  },
  {
   "cell_type": "code",
   "execution_count": 2,
   "metadata": {
    "pycharm": {
     "name": "#%%\n"
    }
   },
   "outputs": [],
   "source": [
    "config = configparser.RawConfigParser()\n",
    "config.read('/Users/zachblumenfeld/devtools/aura-mind-2.ini')\n",
    "HOST = config['NEO4J']['HOST']\n",
    "USERNAME = config['NEO4J']['USERNAME']\n",
    "PASSWORD = config['NEO4J']['PASSWORD']"
   ]
  },
  {
   "cell_type": "markdown",
   "metadata": {
    "pycharm": {
     "name": "#%% md\n"
    }
   },
   "source": [
    "## Connect to Graph Data Science (GDS)"
   ]
  },
  {
   "cell_type": "code",
   "execution_count": 3,
   "metadata": {
    "pycharm": {
     "name": "#%%\n"
    }
   },
   "outputs": [],
   "source": [
    "from graphdatascience import GraphDataScience\n",
    "\n",
    "# Use Neo4j URI and credentials according to your setup\n",
    "gds = GraphDataScience(HOST, auth=(USERNAME, PASSWORD), aura_ds=True)"
   ]
  },
  {
   "cell_type": "markdown",
   "metadata": {
    "pycharm": {
     "name": "#%% md\n"
    }
   },
   "source": [
    "## News Recommendations Without GDS\n",
    "\n",
    "- Returns many potential recommendations - can lack focus and be difficult to prioritize\n",
    "- Large queries - can be slow for production use cases\n",
    "- Results set grows with size of data - can be difficult to scale"
   ]
  },
  {
   "cell_type": "code",
   "execution_count": 4,
   "metadata": {
    "pycharm": {
     "name": "#%%\n"
    }
   },
   "outputs": [],
   "source": [
    "USER_ID = \"U218584\""
   ]
  },
  {
   "cell_type": "code",
   "execution_count": 5,
   "metadata": {
    "pycharm": {
     "name": "#%%\n"
    }
   },
   "outputs": [
    {
     "name": "stdout",
     "output_type": "stream",
     "text": [
      "CPU times: user 24.6 ms, sys: 4.88 ms, total: 29.5 ms\n",
      "Wall time: 2.38 s\n"
     ]
    },
    {
     "data": {
      "text/plain": "    userId  NewsArticlesClicked  UsersAccountsTraversed  RecommendationCount\n0  U218584                    6                   63019                10998",
      "text/html": "<div>\n<style scoped>\n    .dataframe tbody tr th:only-of-type {\n        vertical-align: middle;\n    }\n\n    .dataframe tbody tr th {\n        vertical-align: top;\n    }\n\n    .dataframe thead th {\n        text-align: right;\n    }\n</style>\n<table border=\"1\" class=\"dataframe\">\n  <thead>\n    <tr style=\"text-align: right;\">\n      <th></th>\n      <th>userId</th>\n      <th>NewsArticlesClicked</th>\n      <th>UsersAccountsTraversed</th>\n      <th>RecommendationCount</th>\n    </tr>\n  </thead>\n  <tbody>\n    <tr>\n      <th>0</th>\n      <td>U218584</td>\n      <td>6</td>\n      <td>63019</td>\n      <td>10998</td>\n    </tr>\n  </tbody>\n</table>\n</div>"
     },
     "execution_count": 5,
     "metadata": {},
     "output_type": "execute_result"
    }
   ],
   "source": [
    "%%time\n",
    "gds.run_cypher('''\n",
    "    MATCH (u1:User {userId: $userId})\n",
    "           -[r1:CLICKED]->(n0:RecentNews)\n",
    "           <-[r2:CLICKED]-(u2:User)\n",
    "           -[r3:CLICKED]->(n:RecentNews)\n",
    "    RETURN u1.userId AS userId,\n",
    "           count(DISTINCT n0) AS NewsArticlesClicked,\n",
    "           count(DISTINCT u2) AS UsersAccountsTraversed,\n",
    "           count(DISTINCT n) AS RecommendationCount\n",
    "    ''', params={'userId': USER_ID})"
   ]
  },
  {
   "cell_type": "code",
   "execution_count": 6,
   "metadata": {
    "pycharm": {
     "name": "#%%\n"
    }
   },
   "outputs": [
    {
     "name": "stdout",
     "output_type": "stream",
     "text": [
      "CPU times: user 420 ms, sys: 16.2 ms, total: 437 ms\n",
      "Wall time: 2.41 s\n"
     ]
    },
    {
     "data": {
      "text/plain": "        newsId                                              title  \\\n0       N29160  Opinion: Colin Kaepernick is about to get what...   \n1       N26703  Some believe Mason Rudolph, hit in head with h...   \n2       N40742  THEN AND NOW: What all your favorite '90s star...   \n3      N112662  Arian Foster calls out NFL fans for being hypo...   \n4       N94572  'It's not over': Sarah Palin says she is fight...   \n...        ...                                                ...   \n10993   N79709  Why is citrus one of the 5 Cs of Arizona? What...   \n10994   N21436  Phoenix restaurant Pa'La: Refined, affordable ...   \n10995  N102470        Battered Largo fights way into second round   \n10996   N29438  The TV network Freeform is filming LGBTQ+ rom-...   \n10997    N7705  Speaking in Memphis, Tennessee coach Jeremy Pr...   \n\n            category    subcategory  \n0             sports   football_nfl  \n1             sports   football_nfl  \n2      entertainment      celebrity  \n3             sports   football_nfl  \n4               news         newsus  \n...              ...            ...  \n10993             tv         tvnews  \n10994   foodanddrink     newstrends  \n10995         sports  football_ncaa  \n10996         movies      movienews  \n10997         sports  football_ncaa  \n\n[10998 rows x 4 columns]",
      "text/html": "<div>\n<style scoped>\n    .dataframe tbody tr th:only-of-type {\n        vertical-align: middle;\n    }\n\n    .dataframe tbody tr th {\n        vertical-align: top;\n    }\n\n    .dataframe thead th {\n        text-align: right;\n    }\n</style>\n<table border=\"1\" class=\"dataframe\">\n  <thead>\n    <tr style=\"text-align: right;\">\n      <th></th>\n      <th>newsId</th>\n      <th>title</th>\n      <th>category</th>\n      <th>subcategory</th>\n    </tr>\n  </thead>\n  <tbody>\n    <tr>\n      <th>0</th>\n      <td>N29160</td>\n      <td>Opinion: Colin Kaepernick is about to get what...</td>\n      <td>sports</td>\n      <td>football_nfl</td>\n    </tr>\n    <tr>\n      <th>1</th>\n      <td>N26703</td>\n      <td>Some believe Mason Rudolph, hit in head with h...</td>\n      <td>sports</td>\n      <td>football_nfl</td>\n    </tr>\n    <tr>\n      <th>2</th>\n      <td>N40742</td>\n      <td>THEN AND NOW: What all your favorite '90s star...</td>\n      <td>entertainment</td>\n      <td>celebrity</td>\n    </tr>\n    <tr>\n      <th>3</th>\n      <td>N112662</td>\n      <td>Arian Foster calls out NFL fans for being hypo...</td>\n      <td>sports</td>\n      <td>football_nfl</td>\n    </tr>\n    <tr>\n      <th>4</th>\n      <td>N94572</td>\n      <td>'It's not over': Sarah Palin says she is fight...</td>\n      <td>news</td>\n      <td>newsus</td>\n    </tr>\n    <tr>\n      <th>...</th>\n      <td>...</td>\n      <td>...</td>\n      <td>...</td>\n      <td>...</td>\n    </tr>\n    <tr>\n      <th>10993</th>\n      <td>N79709</td>\n      <td>Why is citrus one of the 5 Cs of Arizona? What...</td>\n      <td>tv</td>\n      <td>tvnews</td>\n    </tr>\n    <tr>\n      <th>10994</th>\n      <td>N21436</td>\n      <td>Phoenix restaurant Pa'La: Refined, affordable ...</td>\n      <td>foodanddrink</td>\n      <td>newstrends</td>\n    </tr>\n    <tr>\n      <th>10995</th>\n      <td>N102470</td>\n      <td>Battered Largo fights way into second round</td>\n      <td>sports</td>\n      <td>football_ncaa</td>\n    </tr>\n    <tr>\n      <th>10996</th>\n      <td>N29438</td>\n      <td>The TV network Freeform is filming LGBTQ+ rom-...</td>\n      <td>movies</td>\n      <td>movienews</td>\n    </tr>\n    <tr>\n      <th>10997</th>\n      <td>N7705</td>\n      <td>Speaking in Memphis, Tennessee coach Jeremy Pr...</td>\n      <td>sports</td>\n      <td>football_ncaa</td>\n    </tr>\n  </tbody>\n</table>\n<p>10998 rows × 4 columns</p>\n</div>"
     },
     "execution_count": 6,
     "metadata": {},
     "output_type": "execute_result"
    }
   ],
   "source": [
    "%%time\n",
    "gds.run_cypher('''\n",
    "    MATCH (u1:User {userId: $userId})\n",
    "           -[r1:CLICKED]->(n0:RecentNews)\n",
    "           <-[r2:CLICKED]-(u2:User)\n",
    "           -[r3:CLICKED]->(n:RecentNews)\n",
    "    WITH DISTINCT n\n",
    "    RETURN n.newsId as newsId,\n",
    "        n.title AS title,\n",
    "        n.category AS category,\n",
    "        n.subcategory As subcategory\n",
    "    ''', params={'userId': USER_ID})"
   ]
  },
  {
   "cell_type": "markdown",
   "metadata": {
    "pycharm": {
     "name": "#%% md\n"
    }
   },
   "source": [
    "## Scale Similarity Inferences with GDS Node Embeddings and K-Nearest Neighbor (KNN) Similarity\n",
    "Memory-based recommenders are notoriously difficult to scale with traditional data science methods.\n",
    "With GDS however, we can scale memory-based recommenders to big data using robust embeddings and KNN similarity algorithms to automatically identify highly significant items."
   ]
  },
  {
   "cell_type": "code",
   "execution_count": 7,
   "metadata": {
    "pycharm": {
     "name": "#%%\n"
    }
   },
   "outputs": [],
   "source": [
    "g0, _ = gds.graph.project('embedding-projection', ['User', 'News'], {\n",
    "    'CLICKED':{'orientation':'UNDIRECTED','properties': {\n",
    "        'weight': {'property': 'confidence', 'defaultValue': 1.0}}},\n",
    "    'HISTORICALLY_CLICKED':{'orientation':'UNDIRECTED', 'properties': {\n",
    "        'weight': {'property': 'confidence', 'defaultValue': 0.1}}}})\n",
    "\n",
    "gds.fastRP.mutate(g0, mutateProperty='embedding', embeddingDimension=256, randomSeed=7474, \n",
    "                  relationshipWeightProperty='weight')\n",
    "gds.graph.writeNodeProperties(g0, [\"embedding\"], [\"News\"])\n",
    "\n",
    "g1, _ = gds.graph.project('cf-projection', {'RecentNews':{'properties':['embedding']}},'*')\n",
    "\n",
    "knn_stats = gds.knn.write(g1, nodeProperties=['embedding'], \n",
    "                  writeRelationshipType='USERS_ALSO_LIKED', writeProperty='score', \n",
    "                  sampleRate=1.0,maxIterations=1000);"
   ]
  },
  {
   "cell_type": "markdown",
   "metadata": {
    "pycharm": {
     "name": "#%% md\n"
    }
   },
   "source": [
    "## News Recommendations Post GDS KNN Application\n",
    "\n",
    "- Returns refined set of recommendations - personalized and relevant to user\n",
    "- Smaller queries - Fast for enterprise use cases\n",
    "- Results size remains constant & focused as data size increases - built for scale"
   ]
  },
  {
   "cell_type": "code",
   "execution_count": 8,
   "metadata": {
    "pycharm": {
     "name": "#%%\n"
    }
   },
   "outputs": [
    {
     "name": "stdout",
     "output_type": "stream",
     "text": [
      "CPU times: user 2.21 ms, sys: 1.11 ms, total: 3.32 ms\n",
      "Wall time: 278 ms\n"
     ]
    },
    {
     "data": {
      "text/plain": "    userId  NewsArticlesClicked  UsersAccountsTraversed  \\\n0  U218584                    6                       0   \n\n   RefinedRecommendationCount  \n0                          60  ",
      "text/html": "<div>\n<style scoped>\n    .dataframe tbody tr th:only-of-type {\n        vertical-align: middle;\n    }\n\n    .dataframe tbody tr th {\n        vertical-align: top;\n    }\n\n    .dataframe thead th {\n        text-align: right;\n    }\n</style>\n<table border=\"1\" class=\"dataframe\">\n  <thead>\n    <tr style=\"text-align: right;\">\n      <th></th>\n      <th>userId</th>\n      <th>NewsArticlesClicked</th>\n      <th>UsersAccountsTraversed</th>\n      <th>RefinedRecommendationCount</th>\n    </tr>\n  </thead>\n  <tbody>\n    <tr>\n      <th>0</th>\n      <td>U218584</td>\n      <td>6</td>\n      <td>0</td>\n      <td>60</td>\n    </tr>\n  </tbody>\n</table>\n</div>"
     },
     "execution_count": 8,
     "metadata": {},
     "output_type": "execute_result"
    }
   ],
   "source": [
    "%%time\n",
    "gds.run_cypher( '''\n",
    "    MATCH(u:User {userId: $userId})\n",
    "        -[:CLICKED]->(n0:RecentNews)\n",
    "        -[s:USERS_ALSO_LIKED]->(n:News)\n",
    "    RETURN u.userId AS userId,\n",
    "           count(DISTINCT n0) AS NewsArticlesClicked,\n",
    "           0 AS UsersAccountsTraversed,\n",
    "           count(DISTINCT n) AS RefinedRecommendationCount\n",
    "    ''', params={'userId': USER_ID})"
   ]
  },
  {
   "cell_type": "code",
   "execution_count": 9,
   "metadata": {
    "pycharm": {
     "name": "#%%\n"
    }
   },
   "outputs": [
    {
     "name": "stdout",
     "output_type": "stream",
     "text": [
      "CPU times: user 4.97 ms, sys: 1.18 ms, total: 6.15 ms\n",
      "Wall time: 298 ms\n"
     ]
    },
    {
     "data": {
      "text/plain": "     newsId                                              title      category  \\\n0    N81058  New Mexico game vs. Air Force rescheduled afte...        sports   \n1    N26968  'Beautiful boys': Victims in Mexico ambush rem...          news   \n2   N107322  Reality television star Kevin O'Leary and his ...            tv   \n3   N126027  Woman accused of embezzling from Camp Fire vic...          news   \n4    N86231  New images capture missing college student on ...          news   \n..      ...                                                ...           ...   \n55   N41143  10 of the best fast-food burger chains across ...  foodanddrink   \n56   N50013  These chains offer the best value in fast food...  foodanddrink   \n57   N46113  Watch This Gross 300,000-Mile Chevy Work Truck...         autos   \n58   N83623  Hidden Camera Captures Cat And Baby Having The...     lifestyle   \n59   N34345  Alexandria Ocasio-Cortez to join Bernie Sander...          news   \n\n           subcategory  totalScore  \n0        football_ncaa    0.889312  \n1            newsworld    0.873203  \n2         tv-celebrity    0.872507  \n3            newscrime    0.869965  \n4               newsus    0.867730  \n..                 ...         ...  \n55  restaurantsandnews    0.731043  \n56  restaurantsandnews    0.730796  \n57    autosenthusiasts    0.729109  \n58       lifestylebuzz    0.729007  \n59        newspolitics    0.727310  \n\n[60 rows x 5 columns]",
      "text/html": "<div>\n<style scoped>\n    .dataframe tbody tr th:only-of-type {\n        vertical-align: middle;\n    }\n\n    .dataframe tbody tr th {\n        vertical-align: top;\n    }\n\n    .dataframe thead th {\n        text-align: right;\n    }\n</style>\n<table border=\"1\" class=\"dataframe\">\n  <thead>\n    <tr style=\"text-align: right;\">\n      <th></th>\n      <th>newsId</th>\n      <th>title</th>\n      <th>category</th>\n      <th>subcategory</th>\n      <th>totalScore</th>\n    </tr>\n  </thead>\n  <tbody>\n    <tr>\n      <th>0</th>\n      <td>N81058</td>\n      <td>New Mexico game vs. Air Force rescheduled afte...</td>\n      <td>sports</td>\n      <td>football_ncaa</td>\n      <td>0.889312</td>\n    </tr>\n    <tr>\n      <th>1</th>\n      <td>N26968</td>\n      <td>'Beautiful boys': Victims in Mexico ambush rem...</td>\n      <td>news</td>\n      <td>newsworld</td>\n      <td>0.873203</td>\n    </tr>\n    <tr>\n      <th>2</th>\n      <td>N107322</td>\n      <td>Reality television star Kevin O'Leary and his ...</td>\n      <td>tv</td>\n      <td>tv-celebrity</td>\n      <td>0.872507</td>\n    </tr>\n    <tr>\n      <th>3</th>\n      <td>N126027</td>\n      <td>Woman accused of embezzling from Camp Fire vic...</td>\n      <td>news</td>\n      <td>newscrime</td>\n      <td>0.869965</td>\n    </tr>\n    <tr>\n      <th>4</th>\n      <td>N86231</td>\n      <td>New images capture missing college student on ...</td>\n      <td>news</td>\n      <td>newsus</td>\n      <td>0.867730</td>\n    </tr>\n    <tr>\n      <th>...</th>\n      <td>...</td>\n      <td>...</td>\n      <td>...</td>\n      <td>...</td>\n      <td>...</td>\n    </tr>\n    <tr>\n      <th>55</th>\n      <td>N41143</td>\n      <td>10 of the best fast-food burger chains across ...</td>\n      <td>foodanddrink</td>\n      <td>restaurantsandnews</td>\n      <td>0.731043</td>\n    </tr>\n    <tr>\n      <th>56</th>\n      <td>N50013</td>\n      <td>These chains offer the best value in fast food...</td>\n      <td>foodanddrink</td>\n      <td>restaurantsandnews</td>\n      <td>0.730796</td>\n    </tr>\n    <tr>\n      <th>57</th>\n      <td>N46113</td>\n      <td>Watch This Gross 300,000-Mile Chevy Work Truck...</td>\n      <td>autos</td>\n      <td>autosenthusiasts</td>\n      <td>0.729109</td>\n    </tr>\n    <tr>\n      <th>58</th>\n      <td>N83623</td>\n      <td>Hidden Camera Captures Cat And Baby Having The...</td>\n      <td>lifestyle</td>\n      <td>lifestylebuzz</td>\n      <td>0.729007</td>\n    </tr>\n    <tr>\n      <th>59</th>\n      <td>N34345</td>\n      <td>Alexandria Ocasio-Cortez to join Bernie Sander...</td>\n      <td>news</td>\n      <td>newspolitics</td>\n      <td>0.727310</td>\n    </tr>\n  </tbody>\n</table>\n<p>60 rows × 5 columns</p>\n</div>"
     },
     "execution_count": 9,
     "metadata": {},
     "output_type": "execute_result"
    }
   ],
   "source": [
    "%%time\n",
    "gds.run_cypher( '''\n",
    "    MATCH(u:User {userId: $userId})\n",
    "        -[:CLICKED]->(n0:RecentNews)\n",
    "        -[s:USERS_ALSO_LIKED]->(n:News)\n",
    "    WITH DISTINCT n, sum(s.score) AS totalScore\n",
    "    RETURN n.newsId as newsId,\n",
    "        n.title AS title,\n",
    "        n.category AS category,\n",
    "        n.subcategory As subcategory,\n",
    "        totalScore ORDER BY totalScore DESC\n",
    "    ''', params={'userId': USER_ID})"
   ]
  },
  {
   "cell_type": "code",
   "execution_count": 10,
   "metadata": {
    "pycharm": {
     "name": "#%%\n"
    }
   },
   "outputs": [],
   "source": [
    "g0.drop()\n",
    "g1.drop()"
   ]
  },
  {
   "cell_type": "code",
   "execution_count": 11,
   "metadata": {
    "pycharm": {
     "name": "#%%\n"
    }
   },
   "outputs": [],
   "source": [
    "_ = gds.run_cypher('MATCH (:RecentNews)-[r:USERS_ALSO_LIKED]->() DELETE r')"
   ]
  },
  {
   "cell_type": "code",
   "execution_count": 11,
   "metadata": {
    "pycharm": {
     "name": "#%%\n"
    }
   },
   "outputs": [],
   "source": []
  }
 ],
 "metadata": {
  "kernelspec": {
   "display_name": "Python 3 (ipykernel)",
   "language": "python",
   "name": "python3"
  },
  "language_info": {
   "codemirror_mode": {
    "name": "ipython",
    "version": 3
   },
   "file_extension": ".py",
   "mimetype": "text/x-python",
   "name": "python",
   "nbconvert_exporter": "python",
   "pygments_lexer": "ipython3",
   "version": "3.8.2"
  }
 },
 "nbformat": 4,
 "nbformat_minor": 1
}