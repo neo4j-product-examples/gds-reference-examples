{
 "cells": [
  {
   "cell_type": "markdown",
   "metadata": {
    "collapsed": true,
    "pycharm": {
     "name": "#%% md\n"
    }
   },
   "source": [
    "# Graph Data Science Meets Python"
   ]
  },
  {
   "cell_type": "code",
   "execution_count": 1,
   "metadata": {
    "pycharm": {
     "name": "#%%\n"
    }
   },
   "outputs": [],
   "source": [
    "from graphdatascience import GraphDataScience\n",
    "import pandas as pd\n",
    "import configparser\n",
    "pd.set_option('display.max_rows', 12)"
   ]
  },
  {
   "cell_type": "markdown",
   "metadata": {
    "pycharm": {
     "name": "#%% md\n"
    }
   },
   "source": [
    "# Recommendation System - News Content\n",
    "## Using KNN to Improve Recommendation Efficiency"
   ]
  },
  {
   "cell_type": "code",
   "execution_count": 2,
   "metadata": {
    "pycharm": {
     "name": "#%%\n"
    }
   },
   "outputs": [],
   "source": [
    "config = configparser.RawConfigParser()\n",
    "config.read('/Users/zachblumenfeld/devtools/aura-mind-2.ini')\n",
    "HOST = config['NEO4J']['HOST']\n",
    "USERNAME = config['NEO4J']['USERNAME']\n",
    "PASSWORD = config['NEO4J']['PASSWORD']"
   ]
  },
  {
   "cell_type": "markdown",
   "metadata": {
    "pycharm": {
     "name": "#%% md\n"
    }
   },
   "source": [
    "## Connect to Graph Data Science (GDS)"
   ]
  },
  {
   "cell_type": "code",
   "execution_count": 3,
   "metadata": {
    "pycharm": {
     "name": "#%%\n"
    }
   },
   "outputs": [],
   "source": [
    "gds = GraphDataScience(HOST, auth=(USERNAME, PASSWORD), aura_ds=True)"
   ]
  },
  {
   "cell_type": "markdown",
   "metadata": {
    "pycharm": {
     "name": "#%% md\n"
    }
   },
   "source": [
    "## News Recommendations Without GDS\n",
    "\n",
    "- Returns many potential recommendations - can lack focus and be difficult to prioritize\n",
    "- Large queries - can be slow for production use cases\n",
    "- Results set grows with size of data - can be difficult to scale"
   ]
  },
  {
   "cell_type": "code",
   "execution_count": 4,
   "metadata": {
    "pycharm": {
     "name": "#%%\n"
    }
   },
   "outputs": [],
   "source": [
    "USER_ID = \"U218584\""
   ]
  },
  {
   "cell_type": "code",
   "execution_count": 5,
   "metadata": {
    "pycharm": {
     "name": "#%%\n"
    }
   },
   "outputs": [
    {
     "name": "stdout",
     "output_type": "stream",
     "text": [
      "CPU times: user 31.1 ms, sys: 6.05 ms, total: 37.2 ms\n",
      "Wall time: 2.48 s\n"
     ]
    },
    {
     "data": {
      "text/html": [
       "<div>\n",
       "<style scoped>\n",
       "    .dataframe tbody tr th:only-of-type {\n",
       "        vertical-align: middle;\n",
       "    }\n",
       "\n",
       "    .dataframe tbody tr th {\n",
       "        vertical-align: top;\n",
       "    }\n",
       "\n",
       "    .dataframe thead th {\n",
       "        text-align: right;\n",
       "    }\n",
       "</style>\n",
       "<table border=\"1\" class=\"dataframe\">\n",
       "  <thead>\n",
       "    <tr style=\"text-align: right;\">\n",
       "      <th></th>\n",
       "      <th>userId</th>\n",
       "      <th>NewsArticlesClicked</th>\n",
       "      <th>UsersAccountsTraversed</th>\n",
       "      <th>RecommendationCount</th>\n",
       "    </tr>\n",
       "  </thead>\n",
       "  <tbody>\n",
       "    <tr>\n",
       "      <th>0</th>\n",
       "      <td>U218584</td>\n",
       "      <td>6</td>\n",
       "      <td>63019</td>\n",
       "      <td>10998</td>\n",
       "    </tr>\n",
       "  </tbody>\n",
       "</table>\n",
       "</div>"
      ],
      "text/plain": [
       "    userId  NewsArticlesClicked  UsersAccountsTraversed  RecommendationCount\n",
       "0  U218584                    6                   63019                10998"
      ]
     },
     "execution_count": 5,
     "metadata": {},
     "output_type": "execute_result"
    }
   ],
   "source": [
    "%%time\n",
    "gds.run_cypher('''\n",
    "    MATCH (u1:User {userId: $userId})\n",
    "           -[r1:CLICKED]->(n0:RecentNews)\n",
    "           <-[r2:CLICKED]-(u2:User)\n",
    "           -[r3:CLICKED]->(n:RecentNews)\n",
    "    RETURN u1.userId AS userId,\n",
    "           count(DISTINCT n0) AS NewsArticlesClicked,\n",
    "           count(DISTINCT u2) AS UsersAccountsTraversed,\n",
    "           count(DISTINCT n) AS RecommendationCount\n",
    "    ''', params={'userId': USER_ID})"
   ]
  },
  {
   "cell_type": "code",
   "execution_count": 6,
   "metadata": {
    "pycharm": {
     "name": "#%%\n"
    }
   },
   "outputs": [
    {
     "name": "stdout",
     "output_type": "stream",
     "text": [
      "CPU times: user 461 ms, sys: 15.4 ms, total: 476 ms\n",
      "Wall time: 2.14 s\n"
     ]
    },
    {
     "data": {
      "text/html": [
       "<div>\n",
       "<style scoped>\n",
       "    .dataframe tbody tr th:only-of-type {\n",
       "        vertical-align: middle;\n",
       "    }\n",
       "\n",
       "    .dataframe tbody tr th {\n",
       "        vertical-align: top;\n",
       "    }\n",
       "\n",
       "    .dataframe thead th {\n",
       "        text-align: right;\n",
       "    }\n",
       "</style>\n",
       "<table border=\"1\" class=\"dataframe\">\n",
       "  <thead>\n",
       "    <tr style=\"text-align: right;\">\n",
       "      <th></th>\n",
       "      <th>newsId</th>\n",
       "      <th>title</th>\n",
       "      <th>category</th>\n",
       "      <th>subcategory</th>\n",
       "    </tr>\n",
       "  </thead>\n",
       "  <tbody>\n",
       "    <tr>\n",
       "      <th>0</th>\n",
       "      <td>N29160</td>\n",
       "      <td>Opinion: Colin Kaepernick is about to get what...</td>\n",
       "      <td>sports</td>\n",
       "      <td>football_nfl</td>\n",
       "    </tr>\n",
       "    <tr>\n",
       "      <th>1</th>\n",
       "      <td>N26703</td>\n",
       "      <td>Some believe Mason Rudolph, hit in head with h...</td>\n",
       "      <td>sports</td>\n",
       "      <td>football_nfl</td>\n",
       "    </tr>\n",
       "    <tr>\n",
       "      <th>2</th>\n",
       "      <td>N40742</td>\n",
       "      <td>THEN AND NOW: What all your favorite '90s star...</td>\n",
       "      <td>entertainment</td>\n",
       "      <td>celebrity</td>\n",
       "    </tr>\n",
       "    <tr>\n",
       "      <th>3</th>\n",
       "      <td>N112662</td>\n",
       "      <td>Arian Foster calls out NFL fans for being hypo...</td>\n",
       "      <td>sports</td>\n",
       "      <td>football_nfl</td>\n",
       "    </tr>\n",
       "    <tr>\n",
       "      <th>4</th>\n",
       "      <td>N94572</td>\n",
       "      <td>'It's not over': Sarah Palin says she is fight...</td>\n",
       "      <td>news</td>\n",
       "      <td>newsus</td>\n",
       "    </tr>\n",
       "    <tr>\n",
       "      <th>...</th>\n",
       "      <td>...</td>\n",
       "      <td>...</td>\n",
       "      <td>...</td>\n",
       "      <td>...</td>\n",
       "    </tr>\n",
       "    <tr>\n",
       "      <th>10993</th>\n",
       "      <td>N79709</td>\n",
       "      <td>Why is citrus one of the 5 Cs of Arizona? What...</td>\n",
       "      <td>tv</td>\n",
       "      <td>tvnews</td>\n",
       "    </tr>\n",
       "    <tr>\n",
       "      <th>10994</th>\n",
       "      <td>N21436</td>\n",
       "      <td>Phoenix restaurant Pa'La: Refined, affordable ...</td>\n",
       "      <td>foodanddrink</td>\n",
       "      <td>newstrends</td>\n",
       "    </tr>\n",
       "    <tr>\n",
       "      <th>10995</th>\n",
       "      <td>N102470</td>\n",
       "      <td>Battered Largo fights way into second round</td>\n",
       "      <td>sports</td>\n",
       "      <td>football_ncaa</td>\n",
       "    </tr>\n",
       "    <tr>\n",
       "      <th>10996</th>\n",
       "      <td>N29438</td>\n",
       "      <td>The TV network Freeform is filming LGBTQ+ rom-...</td>\n",
       "      <td>movies</td>\n",
       "      <td>movienews</td>\n",
       "    </tr>\n",
       "    <tr>\n",
       "      <th>10997</th>\n",
       "      <td>N7705</td>\n",
       "      <td>Speaking in Memphis, Tennessee coach Jeremy Pr...</td>\n",
       "      <td>sports</td>\n",
       "      <td>football_ncaa</td>\n",
       "    </tr>\n",
       "  </tbody>\n",
       "</table>\n",
       "<p>10998 rows × 4 columns</p>\n",
       "</div>"
      ],
      "text/plain": [
       "        newsId                                              title  \\\n",
       "0       N29160  Opinion: Colin Kaepernick is about to get what...   \n",
       "1       N26703  Some believe Mason Rudolph, hit in head with h...   \n",
       "2       N40742  THEN AND NOW: What all your favorite '90s star...   \n",
       "3      N112662  Arian Foster calls out NFL fans for being hypo...   \n",
       "4       N94572  'It's not over': Sarah Palin says she is fight...   \n",
       "...        ...                                                ...   \n",
       "10993   N79709  Why is citrus one of the 5 Cs of Arizona? What...   \n",
       "10994   N21436  Phoenix restaurant Pa'La: Refined, affordable ...   \n",
       "10995  N102470        Battered Largo fights way into second round   \n",
       "10996   N29438  The TV network Freeform is filming LGBTQ+ rom-...   \n",
       "10997    N7705  Speaking in Memphis, Tennessee coach Jeremy Pr...   \n",
       "\n",
       "            category    subcategory  \n",
       "0             sports   football_nfl  \n",
       "1             sports   football_nfl  \n",
       "2      entertainment      celebrity  \n",
       "3             sports   football_nfl  \n",
       "4               news         newsus  \n",
       "...              ...            ...  \n",
       "10993             tv         tvnews  \n",
       "10994   foodanddrink     newstrends  \n",
       "10995         sports  football_ncaa  \n",
       "10996         movies      movienews  \n",
       "10997         sports  football_ncaa  \n",
       "\n",
       "[10998 rows x 4 columns]"
      ]
     },
     "execution_count": 6,
     "metadata": {},
     "output_type": "execute_result"
    }
   ],
   "source": [
    "%%time\n",
    "gds.run_cypher('''\n",
    "    MATCH (u1:User {userId: $userId})\n",
    "           -[r1:CLICKED]->(n0:RecentNews)\n",
    "           <-[r2:CLICKED]-(u2:User)\n",
    "           -[r3:CLICKED]->(n:RecentNews)\n",
    "    WITH DISTINCT n\n",
    "    RETURN n.newsId as newsId,\n",
    "        n.title AS title,\n",
    "        n.category AS category,\n",
    "        n.subcategory As subcategory\n",
    "    ''', params={'userId': USER_ID})"
   ]
  },
  {
   "cell_type": "markdown",
   "metadata": {
    "pycharm": {
     "name": "#%% md\n"
    }
   },
   "source": [
    "## Scale Similarity Inferences with GDS Node Embeddings and K-Nearest Neighbor (KNN) Similarity\n",
    "Memory-based recommenders are notoriously difficult to scale with traditional data science methods.\n",
    "With GDS however, we can scale memory-based recommenders to big data using robust embeddings and KNN similarity algorithms to automatically identify highly significant items."
   ]
  },
  {
   "cell_type": "code",
   "execution_count": 12,
   "metadata": {
    "pycharm": {
     "name": "#%%\n"
    }
   },
   "outputs": [],
   "source": [
    "g0, _ = gds.graph.project('embedding-projection', ['User', 'News'], {\n",
    "    'CLICKED':{'orientation':'UNDIRECTED','properties': {\n",
    "        'weight': {'property': 'confidence', 'defaultValue': 1.0}}},\n",
    "    'HISTORICALLY_CLICKED':{'orientation':'UNDIRECTED', 'properties': {\n",
    "        'weight': {'property': 'confidence', 'defaultValue': 0.1}}}})\n",
    "\n",
    "gds.fastRP.mutate(g0, mutateProperty='embedding', embeddingDimension=256, randomSeed=7474, \n",
    "                  relationshipWeightProperty='weight')\n",
    "gds.graph.writeNodeProperties(g0, [\"embedding\"], [\"News\"])\n",
    "\n",
    "g1, _ = gds.graph.project('cf-projection', {'RecentNews':{'properties':['embedding']}},'*')\n",
    "\n",
    "knn_stats = gds.knn.write(g1, nodeProperties=['embedding'], \n",
    "                  writeRelationshipType='USERS_ALSO_LIKED', writeProperty='score', \n",
    "                  sampleRate=1.0,maxIterations=1000);"
   ]
  },
  {
   "cell_type": "markdown",
   "metadata": {
    "pycharm": {
     "name": "#%% md\n"
    }
   },
   "source": [
    "## News Recommendations Post GDS KNN Application\n",
    "\n",
    "- Returns refined set of recommendations - personalized and relevant to user\n",
    "- Smaller queries - Fast for enterprise use cases\n",
    "- Results size remains constant & focused as data size increases - built for scale"
   ]
  },
  {
   "cell_type": "code",
   "execution_count": null,
   "metadata": {
    "pycharm": {
     "name": "#%%\n"
    }
   },
   "outputs": [],
   "source": [
    "%%time\n",
    "gds.run_cypher( '''\n",
    "    MATCH(u:User {userId: $userId})\n",
    "        -[:CLICKED]->(n0:RecentNews)\n",
    "        -[s:USERS_ALSO_LIKED]->(n:News)\n",
    "    RETURN u.userId AS userId,\n",
    "           count(DISTINCT n0) AS NewsArticlesClicked,\n",
    "           0 AS UsersAccountsTraversed,\n",
    "           count(DISTINCT n) AS RefinedRecommendationCount\n",
    "    ''', params={'userId': USER_ID})"
   ]
  },
  {
   "cell_type": "code",
   "execution_count": null,
   "metadata": {
    "pycharm": {
     "name": "#%%\n"
    }
   },
   "outputs": [],
   "source": [
    "%%time\n",
    "gds.run_cypher( '''\n",
    "    MATCH(u:User {userId: $userId})\n",
    "        -[:CLICKED]->(n0:RecentNews)\n",
    "        -[s:USERS_ALSO_LIKED]->(n:News)\n",
    "    WITH DISTINCT n, sum(s.score) AS totalScore\n",
    "    RETURN n.newsId as newsId,\n",
    "        n.title AS title,\n",
    "        n.category AS category,\n",
    "        n.subcategory As subcategory,\n",
    "        totalScore ORDER BY totalScore DESC\n",
    "    ''', params={'userId': USER_ID})"
   ]
  },
  {
   "cell_type": "code",
   "execution_count": 10,
   "metadata": {
    "pycharm": {
     "name": "#%%\n"
    }
   },
   "outputs": [],
   "source": [
    "g0.drop()\n",
    "g1.drop()"
   ]
  },
  {
   "cell_type": "code",
   "execution_count": 11,
   "metadata": {
    "pycharm": {
     "name": "#%%\n"
    }
   },
   "outputs": [],
   "source": [
    "_ = gds.run_cypher('MATCH (:RecentNews)-[r:USERS_ALSO_LIKED]->() DELETE r')"
   ]
  },
  {
   "cell_type": "code",
   "execution_count": null,
   "metadata": {
    "pycharm": {
     "name": "#%%\n"
    }
   },
   "outputs": [],
   "source": []
  }
 ],
 "metadata": {
  "kernelspec": {
   "display_name": "Python 3 (ipykernel)",
   "language": "python",
   "name": "python3"
  },
  "language_info": {
   "codemirror_mode": {
    "name": "ipython",
    "version": 3
   },
   "file_extension": ".py",
   "mimetype": "text/x-python",
   "name": "python",
   "nbconvert_exporter": "python",
   "pygments_lexer": "ipython3",
   "version": "3.8.2"
  }
 },
 "nbformat": 4,
 "nbformat_minor": 1
}