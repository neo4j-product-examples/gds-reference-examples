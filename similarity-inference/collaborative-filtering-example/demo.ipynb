{
 "cells": [
  {
   "cell_type": "markdown",
   "metadata": {
    "collapsed": true,
    "pycharm": {
     "name": "#%% md\n"
    }
   },
   "source": [
    "# Graph Data Science Meets Python"
   ]
  },
  {
   "cell_type": "code",
   "execution_count": 1,
   "metadata": {
    "pycharm": {
     "name": "#%%\n"
    }
   },
   "outputs": [],
   "source": [
    "import pandas as pd\n",
    "import configparser\n",
    "pd.set_option('display.max_rows', 12)\n",
    "pd.set_option('display.max_colwidth', 500)\n",
    "pd.set_option('display.width', 0)"
   ]
  },
  {
   "cell_type": "markdown",
   "metadata": {
    "pycharm": {
     "name": "#%% md\n"
    }
   },
   "source": [
    "# Recommendation System - News Content\n",
    "## Using KNN to Improve Recommendation Efficiency"
   ]
  },
  {
   "cell_type": "code",
   "execution_count": 2,
   "metadata": {
    "pycharm": {
     "name": "#%%\n"
    }
   },
   "outputs": [],
   "source": [
    "config = configparser.RawConfigParser()\n",
    "config.read('/Users/zachblumenfeld/devtools/aura-mind-2.ini')\n",
    "HOST = config['NEO4J']['HOST']\n",
    "USERNAME = config['NEO4J']['USERNAME']\n",
    "PASSWORD = config['NEO4J']['PASSWORD']"
   ]
  },
  {
   "cell_type": "markdown",
   "metadata": {
    "pycharm": {
     "name": "#%% md\n"
    }
   },
   "source": [
    "## Connect to Graph Data Science (GDS)"
   ]
  },
  {
   "cell_type": "code",
   "execution_count": 3,
   "metadata": {
    "pycharm": {
     "name": "#%%\n"
    }
   },
   "outputs": [],
   "source": [
    "from graphdatascience import GraphDataScience\n",
    "\n",
    "# Use Neo4j URI and credentials according to your setup\n",
    "gds = GraphDataScience(HOST, auth=(USERNAME, PASSWORD), aura_ds=True)"
   ]
  },
  {
   "cell_type": "markdown",
   "metadata": {
    "pycharm": {
     "name": "#%% md\n"
    }
   },
   "source": [
    "## Summary Statistics"
   ]
  },
  {
   "cell_type": "code",
   "execution_count": 4,
   "metadata": {
    "pycharm": {
     "name": "#%%\n"
    }
   },
   "outputs": [
    {
     "data": {
      "text/plain": "  label  nodeCount\n0  User     750434\n1  News     104151",
      "text/html": "<div>\n<style scoped>\n    .dataframe tbody tr th:only-of-type {\n        vertical-align: middle;\n    }\n\n    .dataframe tbody tr th {\n        vertical-align: top;\n    }\n\n    .dataframe thead th {\n        text-align: right;\n    }\n</style>\n<table border=\"1\" class=\"dataframe\">\n  <thead>\n    <tr style=\"text-align: right;\">\n      <th></th>\n      <th>label</th>\n      <th>nodeCount</th>\n    </tr>\n  </thead>\n  <tbody>\n    <tr>\n      <th>0</th>\n      <td>User</td>\n      <td>750434</td>\n    </tr>\n    <tr>\n      <th>1</th>\n      <td>News</td>\n      <td>104151</td>\n    </tr>\n  </tbody>\n</table>\n</div>"
     },
     "execution_count": 4,
     "metadata": {},
     "output_type": "execute_result"
    }
   ],
   "source": [
    "# total node counts\n",
    "gds.run_cypher( '''\n",
    "    CALL apoc.meta.stats()\n",
    "    YIELD labels AS nodeCounts\n",
    "    UNWIND keys(nodeCounts) AS label\n",
    "    WITH label, nodeCounts[label] AS nodeCount\n",
    "    WHERE label IN ['User','News']\n",
    "    RETURN label, nodeCount\n",
    "''')"
   ]
  },
  {
   "cell_type": "code",
   "execution_count": 5,
   "metadata": {
    "pycharm": {
     "name": "#%%\n"
    }
   },
   "outputs": [
    {
     "data": {
      "text/plain": "                   type  relationshipCount\n0               CLICKED            3958501\n1  HISTORICALLY_CLICKED           13580648",
      "text/html": "<div>\n<style scoped>\n    .dataframe tbody tr th:only-of-type {\n        vertical-align: middle;\n    }\n\n    .dataframe tbody tr th {\n        vertical-align: top;\n    }\n\n    .dataframe thead th {\n        text-align: right;\n    }\n</style>\n<table border=\"1\" class=\"dataframe\">\n  <thead>\n    <tr style=\"text-align: right;\">\n      <th></th>\n      <th>type</th>\n      <th>relationshipCount</th>\n    </tr>\n  </thead>\n  <tbody>\n    <tr>\n      <th>0</th>\n      <td>CLICKED</td>\n      <td>3958501</td>\n    </tr>\n    <tr>\n      <th>1</th>\n      <td>HISTORICALLY_CLICKED</td>\n      <td>13580648</td>\n    </tr>\n  </tbody>\n</table>\n</div>"
     },
     "execution_count": 5,
     "metadata": {},
     "output_type": "execute_result"
    }
   ],
   "source": [
    "# total relationship counts\n",
    "gds.run_cypher( '''\n",
    "    CALL apoc.meta.stats()\n",
    "    YIELD relTypesCount as relationshipCounts\n",
    "    UNWIND keys(relationshipCounts) AS type\n",
    "    WITH type, relationshipCounts[type] AS relationshipCount\n",
    "    WHERE type IN ['CLICKED','HISTORICALLY_CLICKED']\n",
    "    RETURN type, relationshipCount\n",
    "''')"
   ]
  },
  {
   "cell_type": "markdown",
   "metadata": {
    "pycharm": {
     "name": "#%% md\n"
    }
   },
   "source": [
    "## News Recommendations Without GDS\n",
    "\n",
    "- Returns many potential recommendations - can lack focus and be difficult to prioritize\n",
    "- Large queries - can be slow for production use cases\n",
    "- Results set grows with size of data - can be difficult to scale"
   ]
  },
  {
   "cell_type": "code",
   "execution_count": 6,
   "metadata": {
    "pycharm": {
     "name": "#%%\n"
    }
   },
   "outputs": [],
   "source": [
    "USER_ID = \"U218584\""
   ]
  },
  {
   "cell_type": "code",
   "execution_count": 7,
   "metadata": {
    "pycharm": {
     "name": "#%%\n"
    }
   },
   "outputs": [
    {
     "name": "stdout",
     "output_type": "stream",
     "text": [
      "CPU times: user 2.84 ms, sys: 1.33 ms, total: 4.17 ms\n",
      "Wall time: 1.53 s\n"
     ]
    },
    {
     "data": {
      "text/plain": "    userId  NewsArticlesClicked  UsersAccountsTraversed  RecommendationCount\n0  U218584                    6                   63019                10998",
      "text/html": "<div>\n<style scoped>\n    .dataframe tbody tr th:only-of-type {\n        vertical-align: middle;\n    }\n\n    .dataframe tbody tr th {\n        vertical-align: top;\n    }\n\n    .dataframe thead th {\n        text-align: right;\n    }\n</style>\n<table border=\"1\" class=\"dataframe\">\n  <thead>\n    <tr style=\"text-align: right;\">\n      <th></th>\n      <th>userId</th>\n      <th>NewsArticlesClicked</th>\n      <th>UsersAccountsTraversed</th>\n      <th>RecommendationCount</th>\n    </tr>\n  </thead>\n  <tbody>\n    <tr>\n      <th>0</th>\n      <td>U218584</td>\n      <td>6</td>\n      <td>63019</td>\n      <td>10998</td>\n    </tr>\n  </tbody>\n</table>\n</div>"
     },
     "execution_count": 7,
     "metadata": {},
     "output_type": "execute_result"
    }
   ],
   "source": [
    "%%time\n",
    "gds.run_cypher('''\n",
    "    MATCH (u1:User {userId: $userId})\n",
    "           -[r1:CLICKED]->(n0:RecentNews)\n",
    "           <-[r2:CLICKED]-(u2:User)\n",
    "           -[r3:CLICKED]->(n:RecentNews)\n",
    "    RETURN u1.userId AS userId,\n",
    "           count(DISTINCT n0) AS NewsArticlesClicked,\n",
    "           count(DISTINCT u2) AS UsersAccountsTraversed,\n",
    "           count(DISTINCT n) AS RecommendationCount\n",
    "    ''', params={'userId': USER_ID})"
   ]
  },
  {
   "cell_type": "code",
   "execution_count": 8,
   "metadata": {
    "pycharm": {
     "name": "#%%\n"
    }
   },
   "outputs": [
    {
     "name": "stdout",
     "output_type": "stream",
     "text": [
      "CPU times: user 581 ms, sys: 21.5 ms, total: 602 ms\n",
      "Wall time: 4.83 s\n"
     ]
    },
    {
     "data": {
      "text/plain": "        newsId  \\\n0       N29160   \n1       N26703   \n2       N40742   \n3      N112662   \n4       N94572   \n...        ...   \n10993   N79709   \n10994   N21436   \n10995  N102470   \n10996   N29438   \n10997    N7705   \n\n                                                                                           title  \\\n0                           Opinion: Colin Kaepernick is about to get what he deserves: a chance   \n1        Some believe Mason Rudolph, hit in head with his own helmet, isn't getting enough blame   \n2                                THEN AND NOW: What all your favorite '90s stars are doing today   \n3                 Arian Foster calls out NFL fans for being hypocrites over Myles Garrett attack   \n4                       'It's not over': Sarah Palin says she is fighting to repair her marriage   \n...                                                                                          ...   \n10993      Why is citrus one of the 5 Cs of Arizona? What led to its decline? Valley 101 digs in   \n10994             Phoenix restaurant Pa'La: Refined, affordable tapas, bread, seafood in Phoenix   \n10995                                                Battered Largo fights way into second round   \n10996                               The TV network Freeform is filming LGBTQ+ rom-com in Chicago   \n10997  Speaking in Memphis, Tennessee coach Jeremy Pruitt proud of Vols, Eric Gray's development   \n\n            category    subcategory  \n0             sports   football_nfl  \n1             sports   football_nfl  \n2      entertainment      celebrity  \n3             sports   football_nfl  \n4               news         newsus  \n...              ...            ...  \n10993             tv         tvnews  \n10994   foodanddrink     newstrends  \n10995         sports  football_ncaa  \n10996         movies      movienews  \n10997         sports  football_ncaa  \n\n[10998 rows x 4 columns]",
      "text/html": "<div>\n<style scoped>\n    .dataframe tbody tr th:only-of-type {\n        vertical-align: middle;\n    }\n\n    .dataframe tbody tr th {\n        vertical-align: top;\n    }\n\n    .dataframe thead th {\n        text-align: right;\n    }\n</style>\n<table border=\"1\" class=\"dataframe\">\n  <thead>\n    <tr style=\"text-align: right;\">\n      <th></th>\n      <th>newsId</th>\n      <th>title</th>\n      <th>category</th>\n      <th>subcategory</th>\n    </tr>\n  </thead>\n  <tbody>\n    <tr>\n      <th>0</th>\n      <td>N29160</td>\n      <td>Opinion: Colin Kaepernick is about to get what he deserves: a chance</td>\n      <td>sports</td>\n      <td>football_nfl</td>\n    </tr>\n    <tr>\n      <th>1</th>\n      <td>N26703</td>\n      <td>Some believe Mason Rudolph, hit in head with his own helmet, isn't getting enough blame</td>\n      <td>sports</td>\n      <td>football_nfl</td>\n    </tr>\n    <tr>\n      <th>2</th>\n      <td>N40742</td>\n      <td>THEN AND NOW: What all your favorite '90s stars are doing today</td>\n      <td>entertainment</td>\n      <td>celebrity</td>\n    </tr>\n    <tr>\n      <th>3</th>\n      <td>N112662</td>\n      <td>Arian Foster calls out NFL fans for being hypocrites over Myles Garrett attack</td>\n      <td>sports</td>\n      <td>football_nfl</td>\n    </tr>\n    <tr>\n      <th>4</th>\n      <td>N94572</td>\n      <td>'It's not over': Sarah Palin says she is fighting to repair her marriage</td>\n      <td>news</td>\n      <td>newsus</td>\n    </tr>\n    <tr>\n      <th>...</th>\n      <td>...</td>\n      <td>...</td>\n      <td>...</td>\n      <td>...</td>\n    </tr>\n    <tr>\n      <th>10993</th>\n      <td>N79709</td>\n      <td>Why is citrus one of the 5 Cs of Arizona? What led to its decline? Valley 101 digs in</td>\n      <td>tv</td>\n      <td>tvnews</td>\n    </tr>\n    <tr>\n      <th>10994</th>\n      <td>N21436</td>\n      <td>Phoenix restaurant Pa'La: Refined, affordable tapas, bread, seafood in Phoenix</td>\n      <td>foodanddrink</td>\n      <td>newstrends</td>\n    </tr>\n    <tr>\n      <th>10995</th>\n      <td>N102470</td>\n      <td>Battered Largo fights way into second round</td>\n      <td>sports</td>\n      <td>football_ncaa</td>\n    </tr>\n    <tr>\n      <th>10996</th>\n      <td>N29438</td>\n      <td>The TV network Freeform is filming LGBTQ+ rom-com in Chicago</td>\n      <td>movies</td>\n      <td>movienews</td>\n    </tr>\n    <tr>\n      <th>10997</th>\n      <td>N7705</td>\n      <td>Speaking in Memphis, Tennessee coach Jeremy Pruitt proud of Vols, Eric Gray's development</td>\n      <td>sports</td>\n      <td>football_ncaa</td>\n    </tr>\n  </tbody>\n</table>\n<p>10998 rows × 4 columns</p>\n</div>"
     },
     "execution_count": 8,
     "metadata": {},
     "output_type": "execute_result"
    }
   ],
   "source": [
    "%%time\n",
    "gds.run_cypher('''\n",
    "    MATCH (u1:User {userId: $userId})\n",
    "           -[r1:CLICKED]->(n0:RecentNews)\n",
    "           <-[r2:CLICKED]-(u2:User)\n",
    "           -[r3:CLICKED]->(n:RecentNews)\n",
    "    WITH DISTINCT n\n",
    "    RETURN n.newsId as newsId,\n",
    "        n.title AS title,\n",
    "        n.category AS category,\n",
    "        n.subcategory As subcategory\n",
    "    ''', params={'userId': USER_ID})"
   ]
  },
  {
   "cell_type": "markdown",
   "metadata": {
    "pycharm": {
     "name": "#%% md\n"
    }
   },
   "source": [
    "## Scale Similarity Inferences with GDS Node Embeddings and K-Nearest Neighbor (KNN) Similarity\n",
    "Memory-based recommenders are notoriously difficult to scale with traditional data science methods.\n",
    "With GDS however, we can scale memory-based recommenders to big data using robust embeddings and KNN similarity algorithms to automatically identify highly significant items."
   ]
  },
  {
   "cell_type": "code",
   "execution_count": 9,
   "metadata": {
    "pycharm": {
     "name": "#%%\n"
    }
   },
   "outputs": [],
   "source": [
    "g0, _ = gds.graph.project('embedding-projection', ['User', 'News'], {\n",
    "    'CLICKED':{'orientation':'UNDIRECTED','properties': {\n",
    "        'weight': {'property': 'confidence', 'defaultValue': 1.0}}},\n",
    "    'HISTORICALLY_CLICKED':{'orientation':'UNDIRECTED', 'properties': {\n",
    "        'weight': {'property': 'confidence', 'defaultValue': 0.1}}}})\n",
    "\n",
    "gds.fastRP.mutate(g0, mutateProperty='embedding', embeddingDimension=256, randomSeed=7474, \n",
    "                  relationshipWeightProperty='weight')\n",
    "gds.graph.writeNodeProperties(g0, [\"embedding\"], [\"News\"])\n",
    "\n",
    "g1, _ = gds.graph.project('cf-projection', {'RecentNews':{'properties':['embedding']}},'*')\n",
    "\n",
    "knn_stats = gds.knn.write(g1, nodeProperties=['embedding'], \n",
    "                  writeRelationshipType='USERS_ALSO_LIKED', writeProperty='score', \n",
    "                  sampleRate=1.0,maxIterations=1000);"
   ]
  },
  {
   "cell_type": "markdown",
   "metadata": {
    "pycharm": {
     "name": "#%% md\n"
    }
   },
   "source": [
    "If you are curious this is what the embeddings look like, they are just vectors of floating point numbers. In this case they are are 256 numbers long as specified in the embeddingDimension parameter above."
   ]
  },
  {
   "cell_type": "code",
   "execution_count": 10,
   "metadata": {
    "pycharm": {
     "name": "#%%\n"
    }
   },
   "outputs": [
    {
     "data": {
      "text/plain": "  n.newsId  \\\n0   N88753   \n1   N99744   \n2   N17957   \n\n                                                                                                                                                                                                                                                                                                                                                                                                                                                                                                           n.embedding  \n0  [0.10630623251199722, 0.1723296195268631, -0.1171380877494812, -0.027835553511977196, -0.06641528755426407, 0.05011148005723953, 0.1398780792951584, -0.20932942628860474, 0.03788360580801964, 0.11861199140548706, -0.054010067135095596, -0.15462571382522583, 0.016326608136296272, 0.1190885603427887, -0.03897024691104889, 0.05449594557285309, -0.0648602545261383, -0.06124555319547653, 0.09067648649215698, 0.02814493328332901, -0.14549581706523895, 0.2743493318557739, 0.17065733671188354, 0.000...  \n1  [-0.08940580487251282, -0.0877138078212738, 0.011865537613630295, -0.10249189287424088, -0.16452106833457947, 0.06788899749517441, 0.07351496070623398, -0.05297347903251648, 0.06831544637680054, -0.059567954391241074, 0.01696055755019188, -0.023166803643107414, 0.01591249741613865, 0.04748855531215668, 0.06959734112024307, 0.18919958174228668, -0.018619976937770844, -0.1406448930501938, 0.06486805528402328, 0.029595350846648216, 0.07380983233451843, 0.15983542799949646, 0.054380059242248535,...  \n2  [0.13875526189804077, -0.23850543797016144, 0.0017148107290267944, -0.07496193051338196, -0.18084552884101868, -0.014842547476291656, 0.08821369707584381, -0.13480809330940247, 0.09693685173988342, 0.058435939252376556, -0.09078291058540344, -0.1293138563632965, 0.0802997499704361, 0.047641463577747345, 0.025296349078416824, 0.1664532721042633, 0.11257122457027435, -0.06640288233757019, -0.026818357408046722, 0.1013699546456337, -0.079646036028862, 0.13696950674057007, 0.06526794284582138, -...  ",
      "text/html": "<div>\n<style scoped>\n    .dataframe tbody tr th:only-of-type {\n        vertical-align: middle;\n    }\n\n    .dataframe tbody tr th {\n        vertical-align: top;\n    }\n\n    .dataframe thead th {\n        text-align: right;\n    }\n</style>\n<table border=\"1\" class=\"dataframe\">\n  <thead>\n    <tr style=\"text-align: right;\">\n      <th></th>\n      <th>n.newsId</th>\n      <th>n.embedding</th>\n    </tr>\n  </thead>\n  <tbody>\n    <tr>\n      <th>0</th>\n      <td>N88753</td>\n      <td>[0.10630623251199722, 0.1723296195268631, -0.1171380877494812, -0.027835553511977196, -0.06641528755426407, 0.05011148005723953, 0.1398780792951584, -0.20932942628860474, 0.03788360580801964, 0.11861199140548706, -0.054010067135095596, -0.15462571382522583, 0.016326608136296272, 0.1190885603427887, -0.03897024691104889, 0.05449594557285309, -0.0648602545261383, -0.06124555319547653, 0.09067648649215698, 0.02814493328332901, -0.14549581706523895, 0.2743493318557739, 0.17065733671188354, 0.000...</td>\n    </tr>\n    <tr>\n      <th>1</th>\n      <td>N99744</td>\n      <td>[-0.08940580487251282, -0.0877138078212738, 0.011865537613630295, -0.10249189287424088, -0.16452106833457947, 0.06788899749517441, 0.07351496070623398, -0.05297347903251648, 0.06831544637680054, -0.059567954391241074, 0.01696055755019188, -0.023166803643107414, 0.01591249741613865, 0.04748855531215668, 0.06959734112024307, 0.18919958174228668, -0.018619976937770844, -0.1406448930501938, 0.06486805528402328, 0.029595350846648216, 0.07380983233451843, 0.15983542799949646, 0.054380059242248535,...</td>\n    </tr>\n    <tr>\n      <th>2</th>\n      <td>N17957</td>\n      <td>[0.13875526189804077, -0.23850543797016144, 0.0017148107290267944, -0.07496193051338196, -0.18084552884101868, -0.014842547476291656, 0.08821369707584381, -0.13480809330940247, 0.09693685173988342, 0.058435939252376556, -0.09078291058540344, -0.1293138563632965, 0.0802997499704361, 0.047641463577747345, 0.025296349078416824, 0.1664532721042633, 0.11257122457027435, -0.06640288233757019, -0.026818357408046722, 0.1013699546456337, -0.079646036028862, 0.13696950674057007, 0.06526794284582138, -...</td>\n    </tr>\n  </tbody>\n</table>\n</div>"
     },
     "execution_count": 10,
     "metadata": {},
     "output_type": "execute_result"
    }
   ],
   "source": [
    "gds.run_cypher('MATCH(n:RecentNews) RETURN n.newsId, n.embedding LIMIT 3')"
   ]
  },
  {
   "cell_type": "markdown",
   "metadata": {
    "pycharm": {
     "name": "#%% md\n"
    }
   },
   "source": [
    "## News Recommendations Post GDS KNN Application\n",
    "\n",
    "- Returns refined set of recommendations - personalized and relevant to user\n",
    "- Smaller queries - Fast for enterprise use cases\n",
    "- Results size remains constant & focused as data size increases - built for scale"
   ]
  },
  {
   "cell_type": "code",
   "execution_count": 11,
   "metadata": {
    "pycharm": {
     "name": "#%%\n"
    }
   },
   "outputs": [
    {
     "name": "stdout",
     "output_type": "stream",
     "text": [
      "CPU times: user 3.83 ms, sys: 1.24 ms, total: 5.07 ms\n",
      "Wall time: 339 ms\n"
     ]
    },
    {
     "data": {
      "text/plain": "    userId  NewsArticlesClicked  UsersAccountsTraversed  \\\n0  U218584                    6                       0   \n\n   RefinedRecommendationCount  \n0                          59  ",
      "text/html": "<div>\n<style scoped>\n    .dataframe tbody tr th:only-of-type {\n        vertical-align: middle;\n    }\n\n    .dataframe tbody tr th {\n        vertical-align: top;\n    }\n\n    .dataframe thead th {\n        text-align: right;\n    }\n</style>\n<table border=\"1\" class=\"dataframe\">\n  <thead>\n    <tr style=\"text-align: right;\">\n      <th></th>\n      <th>userId</th>\n      <th>NewsArticlesClicked</th>\n      <th>UsersAccountsTraversed</th>\n      <th>RefinedRecommendationCount</th>\n    </tr>\n  </thead>\n  <tbody>\n    <tr>\n      <th>0</th>\n      <td>U218584</td>\n      <td>6</td>\n      <td>0</td>\n      <td>59</td>\n    </tr>\n  </tbody>\n</table>\n</div>"
     },
     "execution_count": 11,
     "metadata": {},
     "output_type": "execute_result"
    }
   ],
   "source": [
    "%%time\n",
    "gds.run_cypher( '''\n",
    "    MATCH(u:User {userId: $userId})\n",
    "        -[:CLICKED]->(n0:RecentNews)\n",
    "        -[s:USERS_ALSO_LIKED]->(n:News)\n",
    "    RETURN u.userId AS userId,\n",
    "           count(DISTINCT n0) AS NewsArticlesClicked,\n",
    "           0 AS UsersAccountsTraversed,\n",
    "           count(DISTINCT n) AS RefinedRecommendationCount\n",
    "    ''', params={'userId': USER_ID})"
   ]
  },
  {
   "cell_type": "code",
   "execution_count": 12,
   "metadata": {
    "pycharm": {
     "name": "#%%\n"
    }
   },
   "outputs": [
    {
     "name": "stdout",
     "output_type": "stream",
     "text": [
      "CPU times: user 6.28 ms, sys: 1.44 ms, total: 7.72 ms\n",
      "Wall time: 384 ms\n"
     ]
    },
    {
     "data": {
      "text/plain": "     newsId  \\\n0    N35012   \n1    N81058   \n2    N26968   \n3   N107322   \n4   N126027   \n..      ...   \n54   N78315   \n55   N35689   \n56   N48926   \n57   N53785   \n58   N99267   \n\n                                                                                                                                title  \\\n0                                               Here Are the 2020 MotorTrend Car, Truck, and SUV of the Year Contenders and Finalists   \n1                                                        New Mexico game vs. Air Force rescheduled after lineman Nahje Flowers' death   \n2                                                                   'Beautiful boys': Victims in Mexico ambush remembered at funerals   \n3   Reality television star Kevin O'Leary and his wife were sued Wednesday for wrongful deaths in a boat crash in Canada's backwoods.   \n4                                                                        Woman accused of embezzling from Camp Fire victim surrenders   \n..                                                                                                                                ...   \n54                                                                                       13 Ways to Prep Your Yard Before Snow Season   \n55                                                                                 60 Clever Uses for Salt That Don't Involve Cooking   \n56                                                                    For the first time ever, a US cheese is named best in the world   \n57                                                                    Papa John's introduces first new pizza crust flavor in 35 years   \n58                                                                          Where to get a flu shot: Walmart, CVS, Walgreens and more   \n\n        category             subcategory  totalScore  \n0          autos           autosresearch    1.501173  \n1         sports           football_ncaa    0.889312  \n2           news               newsworld    0.873203  \n3             tv            tv-celebrity    0.872507  \n4           news               newscrime    0.869965  \n..           ...                     ...         ...  \n54     lifestyle  lifestylehomeandgarden    0.735275  \n55     lifestyle  lifestylehomeandgarden    0.731840  \n56  foodanddrink                foodnews    0.731065  \n57  foodanddrink                foodnews    0.730864  \n58        health             health-news    0.728715  \n\n[59 rows x 5 columns]",
      "text/html": "<div>\n<style scoped>\n    .dataframe tbody tr th:only-of-type {\n        vertical-align: middle;\n    }\n\n    .dataframe tbody tr th {\n        vertical-align: top;\n    }\n\n    .dataframe thead th {\n        text-align: right;\n    }\n</style>\n<table border=\"1\" class=\"dataframe\">\n  <thead>\n    <tr style=\"text-align: right;\">\n      <th></th>\n      <th>newsId</th>\n      <th>title</th>\n      <th>category</th>\n      <th>subcategory</th>\n      <th>totalScore</th>\n    </tr>\n  </thead>\n  <tbody>\n    <tr>\n      <th>0</th>\n      <td>N35012</td>\n      <td>Here Are the 2020 MotorTrend Car, Truck, and SUV of the Year Contenders and Finalists</td>\n      <td>autos</td>\n      <td>autosresearch</td>\n      <td>1.501173</td>\n    </tr>\n    <tr>\n      <th>1</th>\n      <td>N81058</td>\n      <td>New Mexico game vs. Air Force rescheduled after lineman Nahje Flowers' death</td>\n      <td>sports</td>\n      <td>football_ncaa</td>\n      <td>0.889312</td>\n    </tr>\n    <tr>\n      <th>2</th>\n      <td>N26968</td>\n      <td>'Beautiful boys': Victims in Mexico ambush remembered at funerals</td>\n      <td>news</td>\n      <td>newsworld</td>\n      <td>0.873203</td>\n    </tr>\n    <tr>\n      <th>3</th>\n      <td>N107322</td>\n      <td>Reality television star Kevin O'Leary and his wife were sued Wednesday for wrongful deaths in a boat crash in Canada's backwoods.</td>\n      <td>tv</td>\n      <td>tv-celebrity</td>\n      <td>0.872507</td>\n    </tr>\n    <tr>\n      <th>4</th>\n      <td>N126027</td>\n      <td>Woman accused of embezzling from Camp Fire victim surrenders</td>\n      <td>news</td>\n      <td>newscrime</td>\n      <td>0.869965</td>\n    </tr>\n    <tr>\n      <th>...</th>\n      <td>...</td>\n      <td>...</td>\n      <td>...</td>\n      <td>...</td>\n      <td>...</td>\n    </tr>\n    <tr>\n      <th>54</th>\n      <td>N78315</td>\n      <td>13 Ways to Prep Your Yard Before Snow Season</td>\n      <td>lifestyle</td>\n      <td>lifestylehomeandgarden</td>\n      <td>0.735275</td>\n    </tr>\n    <tr>\n      <th>55</th>\n      <td>N35689</td>\n      <td>60 Clever Uses for Salt That Don't Involve Cooking</td>\n      <td>lifestyle</td>\n      <td>lifestylehomeandgarden</td>\n      <td>0.731840</td>\n    </tr>\n    <tr>\n      <th>56</th>\n      <td>N48926</td>\n      <td>For the first time ever, a US cheese is named best in the world</td>\n      <td>foodanddrink</td>\n      <td>foodnews</td>\n      <td>0.731065</td>\n    </tr>\n    <tr>\n      <th>57</th>\n      <td>N53785</td>\n      <td>Papa John's introduces first new pizza crust flavor in 35 years</td>\n      <td>foodanddrink</td>\n      <td>foodnews</td>\n      <td>0.730864</td>\n    </tr>\n    <tr>\n      <th>58</th>\n      <td>N99267</td>\n      <td>Where to get a flu shot: Walmart, CVS, Walgreens and more</td>\n      <td>health</td>\n      <td>health-news</td>\n      <td>0.728715</td>\n    </tr>\n  </tbody>\n</table>\n<p>59 rows × 5 columns</p>\n</div>"
     },
     "execution_count": 12,
     "metadata": {},
     "output_type": "execute_result"
    }
   ],
   "source": [
    "%%time\n",
    "gds.run_cypher( '''\n",
    "    MATCH(u:User {userId: $userId})\n",
    "        -[:CLICKED]->(n0:RecentNews)\n",
    "        -[s:USERS_ALSO_LIKED]->(n:News)\n",
    "    WITH DISTINCT n, sum(s.score) AS totalScore\n",
    "    RETURN n.newsId as newsId,\n",
    "        n.title AS title,\n",
    "        n.category AS category,\n",
    "        n.subcategory As subcategory,\n",
    "        totalScore ORDER BY totalScore DESC\n",
    "    ''', params={'userId': USER_ID})"
   ]
  },
  {
   "cell_type": "markdown",
   "metadata": {},
   "source": [
    "## Recommendations Based on Latest Viewed Content\n",
    "\n",
    "The above recommendations traverse all user clicks. However, depending on use case, you may need to base recommendations on just the latest items the user interacted with. With the embeddings + KNN approach, you can use Cypher to customize the range of user activity.\n",
    "\n",
    "Below is an example of using just the last clicked item for recommendation. This produces more focused results."
   ]
  },
  {
   "cell_type": "code",
   "execution_count": 13,
   "metadata": {},
   "outputs": [
    {
     "data": {
      "text/plain": "    newsId  \\\n0  N110709   \n\n                                                                       title  \\\n0  2020 Ford Mustang Shelby GT350 vs. GT500: Which Is the Better Sports Car?   \n\n  category       subcategory                       impressionTime  \n0    autos  autosenthusiasts  2019-11-15T05:48:40.000000000+00:00  ",
      "text/html": "<div>\n<style scoped>\n    .dataframe tbody tr th:only-of-type {\n        vertical-align: middle;\n    }\n\n    .dataframe tbody tr th {\n        vertical-align: top;\n    }\n\n    .dataframe thead th {\n        text-align: right;\n    }\n</style>\n<table border=\"1\" class=\"dataframe\">\n  <thead>\n    <tr style=\"text-align: right;\">\n      <th></th>\n      <th>newsId</th>\n      <th>title</th>\n      <th>category</th>\n      <th>subcategory</th>\n      <th>impressionTime</th>\n    </tr>\n  </thead>\n  <tbody>\n    <tr>\n      <th>0</th>\n      <td>N110709</td>\n      <td>2020 Ford Mustang Shelby GT350 vs. GT500: Which Is the Better Sports Car?</td>\n      <td>autos</td>\n      <td>autosenthusiasts</td>\n      <td>2019-11-15T05:48:40.000000000+00:00</td>\n    </tr>\n  </tbody>\n</table>\n</div>"
     },
     "execution_count": 13,
     "metadata": {},
     "output_type": "execute_result"
    }
   ],
   "source": [
    "# Last clicked item\n",
    "gds.run_cypher('''\n",
    "    MATCH (u:User {userId:$userId})-[r:CLICKED]->(:RecentNews) \n",
    "    WITH u, max(r.impressionTime) AS maxImpressionTime\n",
    "    MATCH (u)-[r:CLICKED]->(n:RecentNews) \n",
    "    WHERE r.impressionTime = maxImpressionTime\n",
    "    RETURN n.newsId as newsId, \n",
    "        n.title AS title, \n",
    "        n.category AS category,\n",
    "        n.subcategory As subcategory,\n",
    "        r.impressionTime AS impressionTime\n",
    "    ''', params={'userId': USER_ID})"
   ]
  },
  {
   "cell_type": "code",
   "execution_count": 14,
   "metadata": {},
   "outputs": [
    {
     "data": {
      "text/plain": "    newsId  \\\n0  N129143   \n1   N65812   \n2   N59026   \n3   N93439   \n4  N119103   \n5   N33779   \n6   N12146   \n7    N9254   \n8   N90096   \n9   N37923   \n\n                                                                   title  \\\n0                           2020 Shelby GT500 Aero Performance & Cooling   \n1              Watch! 2020 Ford Mustang Shelby GT500 Run 10.61 in ¼ Mile   \n2                                       2020 Performance Car of the Year   \n3         2020 Ford Mustang Shelby GT500 Review: This Changes Everything   \n4        Ford Reveals Acceleration Times for 760-HP Mustang Shelby GT500   \n5     The McLaren Senna is Faster 0-100-0 Than These Fast Cars Are 0-100   \n6                        Is Anyone Actually Buying The New Toyota Supra?   \n7              Toyota Supra vs. Ford Mustang Shelby GT350: Kicking Tail!   \n8           This Honda F1 V-10 Is the Perfect Engine for Your Dream Swap   \n9  Porsche's 718 Cayman Fits More Cargo Than the 2020 Chevrolet Corvette   \n\n                                                                                                                                                 abstract  \\\n0                                                     Supercomputers and 3-D Printing are secrets to the all-new Mustang Shelby GT500's high performance.   \n1  How does a 10.61 at 133 mph quarter-mile sound in the 2020 Shelby GT500? Even at the hands of a novice, the new Shelby GT500 is a solid 10-second car.   \n2                                                                                                       Eleven worthy competitors, one surprising winner.   \n3                                                                     42.875% better than the already brilliant GT350, it's a world-class supercar-killer   \n4                                                                                          The 2020 Shelby GT500 is the quickest production Mustang ever.   \n5                                                                                        Putting the mighty McLaren's stupendous performance into context   \n6                                                                                            In case you may not be aware, Toyota brought back the Supra.   \n7                                                                                 Toyota's new sports coupe goes Head 2 Head against Ford's updated pony.   \n8                                                                                                            All yours for the low, low price of $12,200.   \n9                                             The new mid-engined Corvette holds one less carry-on suitcase, but it has space for two sets of golf clubs.   \n\n  category       subcategory  totalScore  \n0    autos  autosenthusiasts    0.835678  \n1    autos       autossports    0.828509  \n2    autos     autosresearch    0.824935  \n3    autos       autossports    0.824524  \n4    autos       autossports    0.823414  \n5    autos  autosenthusiasts    0.816637  \n6    autos  autosenthusiasts    0.814645  \n7    autos       autossports    0.807088  \n8    autos  autosenthusiasts    0.806398  \n9    autos       autossports    0.806190  ",
      "text/html": "<div>\n<style scoped>\n    .dataframe tbody tr th:only-of-type {\n        vertical-align: middle;\n    }\n\n    .dataframe tbody tr th {\n        vertical-align: top;\n    }\n\n    .dataframe thead th {\n        text-align: right;\n    }\n</style>\n<table border=\"1\" class=\"dataframe\">\n  <thead>\n    <tr style=\"text-align: right;\">\n      <th></th>\n      <th>newsId</th>\n      <th>title</th>\n      <th>abstract</th>\n      <th>category</th>\n      <th>subcategory</th>\n      <th>totalScore</th>\n    </tr>\n  </thead>\n  <tbody>\n    <tr>\n      <th>0</th>\n      <td>N129143</td>\n      <td>2020 Shelby GT500 Aero Performance &amp; Cooling</td>\n      <td>Supercomputers and 3-D Printing are secrets to the all-new Mustang Shelby GT500's high performance.</td>\n      <td>autos</td>\n      <td>autosenthusiasts</td>\n      <td>0.835678</td>\n    </tr>\n    <tr>\n      <th>1</th>\n      <td>N65812</td>\n      <td>Watch! 2020 Ford Mustang Shelby GT500 Run 10.61 in ¼ Mile</td>\n      <td>How does a 10.61 at 133 mph quarter-mile sound in the 2020 Shelby GT500? Even at the hands of a novice, the new Shelby GT500 is a solid 10-second car.</td>\n      <td>autos</td>\n      <td>autossports</td>\n      <td>0.828509</td>\n    </tr>\n    <tr>\n      <th>2</th>\n      <td>N59026</td>\n      <td>2020 Performance Car of the Year</td>\n      <td>Eleven worthy competitors, one surprising winner.</td>\n      <td>autos</td>\n      <td>autosresearch</td>\n      <td>0.824935</td>\n    </tr>\n    <tr>\n      <th>3</th>\n      <td>N93439</td>\n      <td>2020 Ford Mustang Shelby GT500 Review: This Changes Everything</td>\n      <td>42.875% better than the already brilliant GT350, it's a world-class supercar-killer</td>\n      <td>autos</td>\n      <td>autossports</td>\n      <td>0.824524</td>\n    </tr>\n    <tr>\n      <th>4</th>\n      <td>N119103</td>\n      <td>Ford Reveals Acceleration Times for 760-HP Mustang Shelby GT500</td>\n      <td>The 2020 Shelby GT500 is the quickest production Mustang ever.</td>\n      <td>autos</td>\n      <td>autossports</td>\n      <td>0.823414</td>\n    </tr>\n    <tr>\n      <th>5</th>\n      <td>N33779</td>\n      <td>The McLaren Senna is Faster 0-100-0 Than These Fast Cars Are 0-100</td>\n      <td>Putting the mighty McLaren's stupendous performance into context</td>\n      <td>autos</td>\n      <td>autosenthusiasts</td>\n      <td>0.816637</td>\n    </tr>\n    <tr>\n      <th>6</th>\n      <td>N12146</td>\n      <td>Is Anyone Actually Buying The New Toyota Supra?</td>\n      <td>In case you may not be aware, Toyota brought back the Supra.</td>\n      <td>autos</td>\n      <td>autosenthusiasts</td>\n      <td>0.814645</td>\n    </tr>\n    <tr>\n      <th>7</th>\n      <td>N9254</td>\n      <td>Toyota Supra vs. Ford Mustang Shelby GT350: Kicking Tail!</td>\n      <td>Toyota's new sports coupe goes Head 2 Head against Ford's updated pony.</td>\n      <td>autos</td>\n      <td>autossports</td>\n      <td>0.807088</td>\n    </tr>\n    <tr>\n      <th>8</th>\n      <td>N90096</td>\n      <td>This Honda F1 V-10 Is the Perfect Engine for Your Dream Swap</td>\n      <td>All yours for the low, low price of $12,200.</td>\n      <td>autos</td>\n      <td>autosenthusiasts</td>\n      <td>0.806398</td>\n    </tr>\n    <tr>\n      <th>9</th>\n      <td>N37923</td>\n      <td>Porsche's 718 Cayman Fits More Cargo Than the 2020 Chevrolet Corvette</td>\n      <td>The new mid-engined Corvette holds one less carry-on suitcase, but it has space for two sets of golf clubs.</td>\n      <td>autos</td>\n      <td>autossports</td>\n      <td>0.806190</td>\n    </tr>\n  </tbody>\n</table>\n</div>"
     },
     "execution_count": 14,
     "metadata": {},
     "output_type": "execute_result"
    }
   ],
   "source": [
    "# Recommendations based on last clicked item\n",
    "gds.run_cypher('''\n",
    "    MATCH (u:User {userId:$userId})-[r:CLICKED]->(:RecentNews) \n",
    "    WITH u, max(r.impressionTime) AS maxImpressionTime\n",
    "    MATCH (u)-[r:CLICKED]->(n:RecentNews) \n",
    "    WHERE r.impressionTime = maxImpressionTime\n",
    "    WITH n\n",
    "    MATCH(n)-[s:USERS_ALSO_LIKED]->(similarNews:News)\n",
    "    RETURN DISTINCT similarNews.newsId as newsId,\n",
    "        similarNews.title AS title,\n",
    "        similarNews.abstract AS abstract,\n",
    "        similarNews.category AS category,\n",
    "        similarNews.subcategory As subcategory,\n",
    "        sum(s.score) AS totalScore\n",
    "        ORDER BY totalScore DESC\n",
    "    ''', params = {'userId': USER_ID})"
   ]
  },
  {
   "cell_type": "markdown",
   "source": [
    "## Cleanup"
   ],
   "metadata": {
    "collapsed": false,
    "pycharm": {
     "name": "#%% md\n"
    }
   }
  },
  {
   "cell_type": "code",
   "execution_count": 15,
   "metadata": {
    "pycharm": {
     "name": "#%%\n"
    }
   },
   "outputs": [],
   "source": [
    "g0.drop()\n",
    "g1.drop()"
   ]
  },
  {
   "cell_type": "code",
   "execution_count": 16,
   "metadata": {
    "pycharm": {
     "name": "#%%\n"
    }
   },
   "outputs": [],
   "source": [
    "_ = gds.run_cypher('MATCH (:RecentNews)-[r:USERS_ALSO_LIKED]->() DELETE r')"
   ]
  }
 ],
 "metadata": {
  "kernelspec": {
   "display_name": "Python 3 (ipykernel)",
   "language": "python",
   "name": "python3"
  },
  "language_info": {
   "codemirror_mode": {
    "name": "ipython",
    "version": 3
   },
   "file_extension": ".py",
   "mimetype": "text/x-python",
   "name": "python",
   "nbconvert_exporter": "python",
   "pygments_lexer": "ipython3",
   "version": "3.8.2"
  }
 },
 "nbformat": 4,
 "nbformat_minor": 1
}